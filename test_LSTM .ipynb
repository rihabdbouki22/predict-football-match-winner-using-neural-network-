{
  "nbformat": 4,
  "nbformat_minor": 0,
  "metadata": {
    "kernelspec": {
      "display_name": "Python 3",
      "language": "python",
      "name": "python3"
    },
    "language_info": {
      "codemirror_mode": {
        "name": "ipython",
        "version": 3
      },
      "file_extension": ".py",
      "mimetype": "text/x-python",
      "name": "python",
      "nbconvert_exporter": "python",
      "pygments_lexer": "ipython3",
      "version": "3.7.3"
    },
    "colab": {
      "name": "test_LSTM.ipynb",
      "provenance": [],
      "collapsed_sections": []
    }
  },
  "cells": [
    {
      "cell_type": "code",
      "metadata": {
        "id": "pIiU1JFM4Ow8",
        "colab_type": "code",
        "colab": {}
      },
      "source": [
        "# Imports"
      ],
      "execution_count": 0,
      "outputs": []
    },
    {
      "cell_type": "code",
      "metadata": {
        "id": "_zcD--Uy4Ow_",
        "colab_type": "code",
        "colab": {}
      },
      "source": [
        "import pandas as pd\n",
        "import numpy as np\n",
        "from tensorflow.keras.models import Sequential\n",
        "from tensorflow.keras.layers import Dense\n",
        "from tensorflow.keras.layers import LSTM\n",
        "from tensorflow.keras.layers import Activation"
      ],
      "execution_count": 0,
      "outputs": []
    },
    {
      "cell_type": "code",
      "metadata": {
        "id": "iX8mJVYK1pRB",
        "colab_type": "code",
        "colab": {}
      },
      "source": [
        ""
      ],
      "execution_count": 0,
      "outputs": []
    },
    {
      "cell_type": "code",
      "metadata": {
        "id": "y8Lt-mDKrGEF",
        "colab_type": "code",
        "colab": {}
      },
      "source": [
        "from sklearn.model_selection import train_test_split\n",
        "from sklearn.model_selection import RandomizedSearchCV, GridSearchCV\n",
        "from tensorflow.keras.wrappers.scikit_learn import KerasRegressor\n",
        "from tensorflow.keras.layers import Dense, Dropout, BatchNormalization\n",
        "from tensorflow.keras.optimizers import Adam, RMSprop\n",
        "from tensorflow.keras import Sequential\n",
        "from tensorflow.keras import backend as K"
      ],
      "execution_count": 0,
      "outputs": []
    },
    {
      "cell_type": "code",
      "metadata": {
        "id": "C8QJkeQ6rU_a",
        "colab_type": "code",
        "colab": {}
      },
      "source": [
        "# Load train data"
      ],
      "execution_count": 0,
      "outputs": []
    },
    {
      "cell_type": "code",
      "metadata": {
        "id": "LXJsBRwc4OxC",
        "colab_type": "code",
        "outputId": "a54e9413-9378-4c6b-da55-824def362743",
        "colab": {
          "base_uri": "https://localhost:8080/",
          "height": 170
        }
      },
      "source": [
        "data=pd.read_csv('./final_dataset.csv')\n",
        "print(data.head())\n",
        "print(data.shape)"
      ],
      "execution_count": 24,
      "outputs": [
        {
          "output_type": "stream",
          "text": [
            "   FTR  HTGS      ATGS      HTGC  ...      ATGD   DiffPts  DiffFormPts  DiffLP\n",
            "0    1  0.04  0.135417  0.048193  ...  2.000000 -1.000000    -1.000000    10.0\n",
            "1    0  0.19  0.250000  0.192771  ...  0.933333 -0.400000    -0.066667     2.0\n",
            "2    0  0.05  0.052083  0.048193  ... -0.833333  0.500000     0.500000    -1.0\n",
            "3    0  0.39  0.312500  0.554217  ... -1.100000  0.466667     0.100000    -7.0\n",
            "4    0  0.19  0.156250  0.457831  ... -0.950000  0.200000    -0.150000    -1.0\n",
            "\n",
            "[5 rows x 30 columns]\n",
            "(2128, 30)\n"
          ],
          "name": "stdout"
        }
      ]
    },
    {
      "cell_type": "code",
      "metadata": {
        "id": "D44nfIOS7-wK",
        "colab_type": "code",
        "colab": {}
      },
      "source": [
        "# Extract target feature from train ( target is FTR:full time result)"
      ],
      "execution_count": 0,
      "outputs": []
    },
    {
      "cell_type": "code",
      "metadata": {
        "id": "ONKQROdS4OxE",
        "colab_type": "code",
        "colab": {}
      },
      "source": [
        "X = data.drop(columns=['FTR'])\n",
        "Y = data[['FTR']]"
      ],
      "execution_count": 0,
      "outputs": []
    },
    {
      "cell_type": "code",
      "metadata": {
        "id": "TTJyzGkCsDZV",
        "colab_type": "code",
        "colab": {}
      },
      "source": [
        "# Create LSTM neural network"
      ],
      "execution_count": 0,
      "outputs": []
    },
    {
      "cell_type": "code",
      "metadata": {
        "id": "sF8KuwJs4OxG",
        "colab_type": "code",
        "colab": {}
      },
      "source": [
        "hm_epochs=20\n",
        "n_classes = 2\n",
        "batch_size = 1\n",
        "chunk_size=29\n",
        "n_chunks=1\n",
        "rnn_size=256\n",
        "\n",
        "\n",
        "#x = tf.placeholder('float', [None, n_chunks,chunk_size])\n",
        "#y = tf.placeholder('float')"
      ],
      "execution_count": 0,
      "outputs": []
    },
    {
      "cell_type": "code",
      "metadata": {
        "id": "c9kx8dLOsOcr",
        "colab_type": "code",
        "colab": {}
      },
      "source": [
        "# LSTM model requires 3 dimensions input for that we have to reshape the input"
      ],
      "execution_count": 0,
      "outputs": []
    },
    {
      "cell_type": "code",
      "metadata": {
        "id": "DBuck61FKE9J",
        "colab_type": "code",
        "colab": {}
      },
      "source": [
        "import numpy as np\n",
        "X = X.to_numpy()"
      ],
      "execution_count": 0,
      "outputs": []
    },
    {
      "cell_type": "code",
      "metadata": {
        "id": "zn37cyEyJyIt",
        "colab_type": "code",
        "colab": {}
      },
      "source": [
        "X=X.reshape(2128,1,-1)"
      ],
      "execution_count": 0,
      "outputs": []
    },
    {
      "cell_type": "code",
      "metadata": {
        "id": "hZTs1IWA4OxQ",
        "colab_type": "code",
        "outputId": "17307eca-e761-4585-ea8a-667a79302aa5",
        "colab": {
          "base_uri": "https://localhost:8080/",
          "height": 1000
        }
      },
      "source": [
        "model = Sequential()\n",
        "model.add(LSTM(64,input_shape=(1, 29),return_sequences=True))\n",
        "model.add(LSTM(32,activation='relu',return_sequences=True))\n",
        "#model.add(Dense(64,activation='relu'))\n",
        "model.add(LSTM(1,activation='tanh' ,return_sequences=False))\n",
        "\n",
        "\n",
        "model.compile(loss='mse',optimizer ='adam',metrics=['accuracy'])\n",
        "\n",
        "\n",
        "model.fit(X,Y,epochs=30,batch_size=10,steps_per_epoch=20);\n",
        "scores = model.evaluate(X,Y,verbose=1,batch_size=1) \n",
        "predict=model.predict(X)\n",
        "\n"
      ],
      "execution_count": 32,
      "outputs": [
        {
          "output_type": "stream",
          "text": [
            "WARNING:tensorflow:When passing input data as arrays, do not specify `steps_per_epoch`/`steps` argument. Please use `batch_size` instead.\n"
          ],
          "name": "stdout"
        },
        {
          "output_type": "stream",
          "text": [
            "WARNING:tensorflow:When passing input data as arrays, do not specify `steps_per_epoch`/`steps` argument. Please use `batch_size` instead.\n"
          ],
          "name": "stderr"
        },
        {
          "output_type": "stream",
          "text": [
            "Train on 20 samples\n",
            "Epoch 1/30\n",
            "20/20 [==============================] - 2s 105ms/step - loss: 0.5052 - acc: 0.4539\n",
            "Epoch 2/30\n",
            "20/20 [==============================] - 1s 35ms/step - loss: 0.3963 - acc: 0.4539\n",
            "Epoch 3/30\n",
            "20/20 [==============================] - 1s 35ms/step - loss: 0.2697 - acc: 0.5227\n",
            "Epoch 4/30\n",
            "20/20 [==============================] - 1s 35ms/step - loss: 0.2327 - acc: 0.6146\n",
            "Epoch 5/30\n",
            "20/20 [==============================] - 1s 36ms/step - loss: 0.2274 - acc: 0.6287\n",
            "Epoch 6/30\n",
            "20/20 [==============================] - 1s 36ms/step - loss: 0.2251 - acc: 0.6304\n",
            "Epoch 7/30\n",
            "20/20 [==============================] - 1s 35ms/step - loss: 0.2234 - acc: 0.6337\n",
            "Epoch 8/30\n",
            "20/20 [==============================] - 1s 35ms/step - loss: 0.2218 - acc: 0.6416\n",
            "Epoch 9/30\n",
            "20/20 [==============================] - 1s 34ms/step - loss: 0.2199 - acc: 0.6449\n",
            "Epoch 10/30\n",
            "20/20 [==============================] - 1s 35ms/step - loss: 0.2176 - acc: 0.6433\n",
            "Epoch 11/30\n",
            "20/20 [==============================] - 1s 36ms/step - loss: 0.2153 - acc: 0.6437\n",
            "Epoch 12/30\n",
            "20/20 [==============================] - 1s 34ms/step - loss: 0.2134 - acc: 0.6491\n",
            "Epoch 13/30\n",
            "20/20 [==============================] - 1s 34ms/step - loss: 0.2115 - acc: 0.6567\n",
            "Epoch 14/30\n",
            "20/20 [==============================] - 1s 35ms/step - loss: 0.2094 - acc: 0.6628\n",
            "Epoch 15/30\n",
            "20/20 [==============================] - 1s 35ms/step - loss: 0.2067 - acc: 0.6719\n",
            "Epoch 16/30\n",
            "20/20 [==============================] - 1s 35ms/step - loss: 0.2034 - acc: 0.6823\n",
            "Epoch 17/30\n",
            "20/20 [==============================] - 1s 34ms/step - loss: 0.1994 - acc: 0.6912\n",
            "Epoch 18/30\n",
            "20/20 [==============================] - 1s 35ms/step - loss: 0.1948 - acc: 0.7024\n",
            "Epoch 19/30\n",
            "20/20 [==============================] - 1s 36ms/step - loss: 0.1895 - acc: 0.7179\n",
            "Epoch 20/30\n",
            "20/20 [==============================] - 1s 35ms/step - loss: 0.1836 - acc: 0.7350\n",
            "Epoch 21/30\n",
            "20/20 [==============================] - 1s 35ms/step - loss: 0.1771 - acc: 0.7533\n",
            "Epoch 22/30\n",
            "20/20 [==============================] - 1s 34ms/step - loss: 0.1699 - acc: 0.7713\n",
            "Epoch 23/30\n",
            "20/20 [==============================] - 1s 34ms/step - loss: 0.1622 - acc: 0.7821\n",
            "Epoch 24/30\n",
            "20/20 [==============================] - 1s 35ms/step - loss: 0.1545 - acc: 0.7954\n",
            "Epoch 25/30\n",
            "20/20 [==============================] - 1s 36ms/step - loss: 0.1470 - acc: 0.8114\n",
            "Epoch 26/30\n",
            "20/20 [==============================] - 1s 36ms/step - loss: 0.1398 - acc: 0.8222\n",
            "Epoch 27/30\n",
            "20/20 [==============================] - 1s 36ms/step - loss: 0.1332 - acc: 0.8315\n",
            "Epoch 28/30\n",
            "20/20 [==============================] - 1s 35ms/step - loss: 0.1272 - acc: 0.8426\n",
            "Epoch 29/30\n",
            "20/20 [==============================] - 1s 35ms/step - loss: 0.1215 - acc: 0.8502\n",
            "Epoch 30/30\n",
            "20/20 [==============================] - 1s 35ms/step - loss: 0.1162 - acc: 0.8604\n",
            "2128/2128 [==============================] - 3s 1ms/sample - loss: 0.1135 - acc: 0.8675\n"
          ],
          "name": "stdout"
        }
      ]
    },
    {
      "cell_type": "code",
      "metadata": {
        "id": "JhciuYPmshux",
        "colab_type": "code",
        "colab": {}
      },
      "source": [
        "# Create simple neural network"
      ],
      "execution_count": 0,
      "outputs": []
    },
    {
      "cell_type": "code",
      "metadata": {
        "id": "3tbvkefEcvGa",
        "colab_type": "code",
        "colab": {}
      },
      "source": [
        "def root_mean_squared_error(y_true, y_pred):\n",
        "    return K.sqrt(K.mean(K.square(y_pred - y_true), axis=0))\n",
        "\n",
        "def create_model(dense_layer_sizes, optimizer=\"adam\", dropout=0.1, init='uniform', nbr_features=29, dense_nparams=256, lr=0.001):\n",
        "    model = Sequential()\n",
        "    model.add(Dense(dense_nparams, activation='softmax', input_shape=(1,29), kernel_initializer=init,)) \n",
        "    model.add(BatchNormalization())\n",
        "    model.add(Dropout(dropout), )\n",
        "    for layer_size in dense_layer_sizes:\n",
        "        model.add(Dense(layer_size, activation='softmax'))\n",
        "        model.add(BatchNormalization())\n",
        "        model.add(Dropout(dropout), )\n",
        "    model.add(Dense(1, activation='tanh'))\n",
        "    opt = Adam(lr)\n",
        "    model.compile(loss='mse', optimizer=opt, metrics=['mse'])\n",
        "    return model"
      ],
      "execution_count": 0,
      "outputs": []
    },
    {
      "cell_type": "code",
      "metadata": {
        "id": "ycNZ0pcqc02g",
        "colab_type": "code",
        "colab": {}
      },
      "source": [
        "model = create_model(dense_layer_sizes=[32,16], dropout=0.2, dense_nparams=512)"
      ],
      "execution_count": 0,
      "outputs": []
    },
    {
      "cell_type": "code",
      "metadata": {
        "id": "INPo_Kwd4OxS",
        "colab_type": "code",
        "outputId": "776cc6d9-2304-47f6-d6f4-4b8e79141c3b",
        "colab": {
          "base_uri": "https://localhost:8080/",
          "height": 714
        }
      },
      "source": [
        "hist = model.fit(X,Y, epochs=20, batch_size=1)"
      ],
      "execution_count": 36,
      "outputs": [
        {
          "output_type": "stream",
          "text": [
            "Train on 2128 samples\n",
            "Epoch 1/20\n",
            "2128/2128 [==============================] - 7s 3ms/sample - loss: 0.2623 - mean_squared_error: 0.2623\n",
            "Epoch 2/20\n",
            "2128/2128 [==============================] - 6s 3ms/sample - loss: 0.2495 - mean_squared_error: 0.2495\n",
            "Epoch 3/20\n",
            "2128/2128 [==============================] - 6s 3ms/sample - loss: 0.2508 - mean_squared_error: 0.2508\n",
            "Epoch 4/20\n",
            "2128/2128 [==============================] - 6s 3ms/sample - loss: 0.2540 - mean_squared_error: 0.2540\n",
            "Epoch 5/20\n",
            "2128/2128 [==============================] - 6s 3ms/sample - loss: 0.2508 - mean_squared_error: 0.2508\n",
            "Epoch 6/20\n",
            "2128/2128 [==============================] - 6s 3ms/sample - loss: 0.2500 - mean_squared_error: 0.2500\n",
            "Epoch 7/20\n",
            "2128/2128 [==============================] - 6s 3ms/sample - loss: 0.2510 - mean_squared_error: 0.2510\n",
            "Epoch 8/20\n",
            "2128/2128 [==============================] - 6s 3ms/sample - loss: 0.2498 - mean_squared_error: 0.2498\n",
            "Epoch 9/20\n",
            "2128/2128 [==============================] - 6s 3ms/sample - loss: 0.2505 - mean_squared_error: 0.2505\n",
            "Epoch 10/20\n",
            "2128/2128 [==============================] - 6s 3ms/sample - loss: 0.2498 - mean_squared_error: 0.2498\n",
            "Epoch 11/20\n",
            "2128/2128 [==============================] - 6s 3ms/sample - loss: 0.2485 - mean_squared_error: 0.2485\n",
            "Epoch 12/20\n",
            "2128/2128 [==============================] - 6s 3ms/sample - loss: 0.2504 - mean_squared_error: 0.2504\n",
            "Epoch 13/20\n",
            "2128/2128 [==============================] - 6s 3ms/sample - loss: 0.2493 - mean_squared_error: 0.2493\n",
            "Epoch 14/20\n",
            "2128/2128 [==============================] - 7s 3ms/sample - loss: 0.2482 - mean_squared_error: 0.2482\n",
            "Epoch 15/20\n",
            "2128/2128 [==============================] - 6s 3ms/sample - loss: 0.2492 - mean_squared_error: 0.2492\n",
            "Epoch 16/20\n",
            "2128/2128 [==============================] - 6s 3ms/sample - loss: 0.2488 - mean_squared_error: 0.2488\n",
            "Epoch 17/20\n",
            "2128/2128 [==============================] - 6s 3ms/sample - loss: 0.2496 - mean_squared_error: 0.2496\n",
            "Epoch 18/20\n",
            "2128/2128 [==============================] - 6s 3ms/sample - loss: 0.2485 - mean_squared_error: 0.2485\n",
            "Epoch 19/20\n",
            "2128/2128 [==============================] - 6s 3ms/sample - loss: 0.2497 - mean_squared_error: 0.2497\n",
            "Epoch 20/20\n",
            "2128/2128 [==============================] - 6s 3ms/sample - loss: 0.2495 - mean_squared_error: 0.2495\n"
          ],
          "name": "stdout"
        }
      ]
    },
    {
      "cell_type": "code",
      "metadata": {
        "id": "hZoPa6HQdp_n",
        "colab_type": "code",
        "colab": {}
      },
      "source": [
        ""
      ],
      "execution_count": 0,
      "outputs": []
    }
  ]
}